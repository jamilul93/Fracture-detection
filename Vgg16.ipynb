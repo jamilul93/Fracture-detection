{
  "cells": [
    {
      "cell_type": "code",
      "execution_count": null,
      "metadata": {
        "id": "HLPUZBjFfFZX"
      },
      "outputs": [],
      "source": []
    },
    {
      "cell_type": "code",
      "execution_count": 2,
      "metadata": {
        "colab": {
          "base_uri": "https://localhost:8080/"
        },
        "id": "0dUxV1T9fMRs",
        "outputId": "e57926f4-414d-4e77-9221-9098cda03f91"
      },
      "outputs": [
        {
          "output_type": "stream",
          "name": "stdout",
          "text": [
            "Drive already mounted at /content/drive; to attempt to forcibly remount, call drive.mount(\"/content/drive\", force_remount=True).\n"
          ]
        }
      ],
      "source": [
        "from google.colab import drive\n",
        "drive.mount('/content/drive')"
      ]
    },
    {
      "cell_type": "code",
      "execution_count": 3,
      "metadata": {
        "id": "VL5nqUN7jXCd"
      },
      "outputs": [],
      "source": [
        "from tensorflow.compat.v1 import ConfigProto\n",
        "from tensorflow.compat.v1 import InteractiveSession"
      ]
    },
    {
      "cell_type": "code",
      "execution_count": 4,
      "metadata": {
        "id": "zeRwPgHXmfY2"
      },
      "outputs": [],
      "source": [
        "from tensorflow.keras.layers import Input, Lambda, Dense, Flatten\n",
        "from tensorflow.keras.models import Model\n",
        "from tensorflow.keras.applications.vgg16 import VGG16\n",
        "from tensorflow.keras.applications.vgg16 import preprocess_input\n",
        "from tensorflow.keras.preprocessing import image\n",
        "from tensorflow.keras.preprocessing.image import ImageDataGenerator,load_img\n",
        "from tensorflow.keras.models import Sequential\n",
        "import numpy as np\n",
        "from glob import glob"
      ]
    },
    {
      "cell_type": "code",
      "source": [
        "from matplotlib.axis import datetime\n",
        "import numpy as np\n",
        "import cv2 as cv\n",
        "from matplotlib import pyplot as plt\n",
        "import os\n",
        "import time \n",
        "for dir, _,filenames in os.walk('/content/drive/MyDrive/New dataset'):\n",
        "   for filename in filenames:\n",
        "    print(os.path.join(dir,filename))\n",
        "    img = cv.imread(os.path.join(dir,filename),0)\n",
        "    edges = cv.Canny(img,224,224)\n",
        "    x=plt.subplot(122),plt.imshow(edges,cmap = 'gray')\n",
        "    plt.title('Edge Image'), plt.xticks([]), plt.yticks([])\n",
        "    test= plt.figure()\n",
        "    plt.show() \n",
        "    if(dir=='/content/drive/MyDrive/New dataset/training/Fracture'):\n",
        "     plt.imsave('/content/drive/MyDrive/Modified dataset/training /fracture /{}.jpg'.format(datetime.datetime.now().strftime(\"%d.%m.%Y-%H_%M_%S_%f\")),img)\n",
        "    elif(dir=='/content/drive/MyDrive/New dataset/training/Non-Fracture'):\n",
        "      plt.imsave('/content/drive/MyDrive/Modified dataset/training /non_fracture /{}.jpg'.format(datetime.datetime.now().strftime(\"%d.%m.%Y-%H_%M_%S_%f\")),img)\n",
        "    elif(dir=='/content/drive/MyDrive/New dataset/validation/Fracture'):\n",
        "        plt.imsave('/content/drive/MyDrive/Modified dataset/validation/fracture/{}.jpg'.format(datetime.datetime.now().strftime(\"%d.%m.%Y-%H_%M_%S_%f\")),img)\n",
        "    elif(dir=='/content/drive/MyDrive/New dataset/validation/Non-Fracture'):\n",
        "       plt.imsave('/content/drive/MyDrive/Modified dataset/validation/non_fracture/{}.jpg'.format(datetime.datetime.now().strftime(\"%d.%m.%Y-%H_%M_%S_%f\")),img)"
      ],
      "metadata": {
        "id": "1fx7hBUleAm7"
      },
      "execution_count": null,
      "outputs": []
    },
    {
      "cell_type": "code",
      "execution_count": 5,
      "metadata": {
        "id": "mALltBnemqk1"
      },
      "outputs": [],
      "source": [
        "\n",
        "IMAGE_SIZE = [224,224]\n",
        "train_path='/content/drive/MyDrive/Modified dataset/training '\n",
        "valid_path='/content/drive/MyDrive/Modified dataset/validation'"
      ]
    },
    {
      "cell_type": "code",
      "execution_count": null,
      "metadata": {
        "id": "_JzfqW1MnLxu"
      },
      "outputs": [],
      "source": [
        "import os \n",
        "for dir, _,filenames in os.walk('/content/drive/MyDrive/Modified dataset'):\n",
        "  for filename in filenames:\n",
        "    print(os.path.join(dir,filename))"
      ]
    },
    {
      "cell_type": "code",
      "execution_count": 7,
      "metadata": {
        "id": "2EyBtktZrQVi",
        "colab": {
          "base_uri": "https://localhost:8080/"
        },
        "outputId": "b449c2db-c6ff-4b4e-fc44-6daccb7c2f5d"
      },
      "outputs": [
        {
          "output_type": "stream",
          "name": "stdout",
          "text": [
            "Downloading data from https://storage.googleapis.com/tensorflow/keras-applications/vgg16/vgg16_weights_tf_dim_ordering_tf_kernels_notop.h5\n",
            "58889256/58889256 [==============================] - 3s 0us/step\n"
          ]
        }
      ],
      "source": [
        "vgg =VGG16(input_shape=IMAGE_SIZE + [3], weights='imagenet', include_top=False)"
      ]
    },
    {
      "cell_type": "code",
      "execution_count": 8,
      "metadata": {
        "id": "SfFaynp5sWni"
      },
      "outputs": [],
      "source": [
        "for layer in vgg.layers:\n",
        "    layer.trainable = False"
      ]
    },
    {
      "cell_type": "code",
      "execution_count": 9,
      "metadata": {
        "id": "Ge648jSSshrK"
      },
      "outputs": [],
      "source": [
        "folders = glob('/content/drive/MyDrive/Modified dataset/training /*')"
      ]
    },
    {
      "cell_type": "code",
      "execution_count": 10,
      "metadata": {
        "colab": {
          "base_uri": "https://localhost:8080/"
        },
        "id": "jD-S1FmLspyf",
        "outputId": "a8f49fbb-c637-40f3-e4ed-54cb03945959"
      },
      "outputs": [
        {
          "output_type": "execute_result",
          "data": {
            "text/plain": [
              "['/content/drive/MyDrive/Modified dataset/training /fracture ',\n",
              " '/content/drive/MyDrive/Modified dataset/training /non_fracture ']"
            ]
          },
          "metadata": {},
          "execution_count": 10
        }
      ],
      "source": [
        "folders"
      ]
    },
    {
      "cell_type": "code",
      "execution_count": 11,
      "metadata": {
        "id": "z6qfBZJNtDCJ"
      },
      "outputs": [],
      "source": [
        "x = Flatten()(vgg.output)"
      ]
    },
    {
      "cell_type": "code",
      "execution_count": 12,
      "metadata": {
        "id": "ZTxbC9lwtIeW"
      },
      "outputs": [],
      "source": [
        "prediction = Dense(len(folders), activation='softmax')(x)"
      ]
    },
    {
      "cell_type": "code",
      "execution_count": 13,
      "metadata": {
        "id": "boHktLa_tM6q"
      },
      "outputs": [],
      "source": [
        "model = Model(inputs=vgg.input, outputs=prediction)"
      ]
    },
    {
      "cell_type": "code",
      "execution_count": null,
      "metadata": {
        "id": "Zm3ZThyXtPEM"
      },
      "outputs": [],
      "source": [
        "model.summary()"
      ]
    },
    {
      "cell_type": "code",
      "execution_count": 15,
      "metadata": {
        "id": "1p5ROsnOtViK"
      },
      "outputs": [],
      "source": [
        "model.compile(\n",
        "  loss='categorical_crossentropy',\n",
        "  optimizer='adam',\n",
        "  metrics=['accuracy']\n",
        ")"
      ]
    },
    {
      "cell_type": "code",
      "execution_count": 16,
      "metadata": {
        "id": "ye3piUv3tYoh"
      },
      "outputs": [],
      "source": [
        "from tensorflow.keras.preprocessing.image import ImageDataGenerator\n",
        "\n",
        "train_datagen = ImageDataGenerator(rescale = 1./255,\n",
        "                                   shear_range = 0.2,\n",
        "                                   zoom_range = 0.2,\n",
        "                                   horizontal_flip = True)\n",
        "\n",
        "test_datagen = ImageDataGenerator(rescale = 1./255)"
      ]
    },
    {
      "cell_type": "code",
      "source": [],
      "metadata": {
        "id": "yqtXrFDMSVY0"
      },
      "execution_count": null,
      "outputs": []
    },
    {
      "cell_type": "code",
      "execution_count": 17,
      "metadata": {
        "colab": {
          "base_uri": "https://localhost:8080/"
        },
        "id": "G4-WTZPwtbeu",
        "outputId": "c0884f03-078f-49af-f177-b43f5173cfa0"
      },
      "outputs": [
        {
          "output_type": "stream",
          "name": "stdout",
          "text": [
            "Found 500 images belonging to 2 classes.\n"
          ]
        }
      ],
      "source": [
        "training_set = train_datagen.flow_from_directory('/content/drive/MyDrive/Modified dataset/training ',\n",
        "                                                 target_size = (224, 224),\n",
        "                                                 batch_size = 32,\n",
        "                                                 class_mode = 'categorical')"
      ]
    },
    {
      "cell_type": "code",
      "execution_count": 18,
      "metadata": {
        "colab": {
          "base_uri": "https://localhost:8080/"
        },
        "id": "qvteTka_timE",
        "outputId": "dab0eb18-0e3a-432e-b683-7b25b1506f0a"
      },
      "outputs": [
        {
          "output_type": "stream",
          "name": "stdout",
          "text": [
            "Found 194 images belonging to 2 classes.\n"
          ]
        }
      ],
      "source": [
        "test_set = test_datagen.flow_from_directory('/content/drive/MyDrive/Modified dataset/validation',\n",
        "                                            target_size = (224, 224),\n",
        "                                            batch_size = 32,\n",
        "                                            class_mode = 'categorical')"
      ]
    },
    {
      "cell_type": "code",
      "source": [],
      "metadata": {
        "id": "yGcpq71_MQxR"
      },
      "execution_count": null,
      "outputs": []
    },
    {
      "cell_type": "code",
      "execution_count": 34,
      "metadata": {
        "id": "HIiYNDFVt0kl",
        "colab": {
          "base_uri": "https://localhost:8080/"
        },
        "outputId": "b912e6f2-10e2-458c-dda7-b356c993e65d"
      },
      "outputs": [
        {
          "output_type": "stream",
          "name": "stderr",
          "text": [
            "<ipython-input-34-9f11e7683361>:1: UserWarning: `Model.fit_generator` is deprecated and will be removed in a future version. Please use `Model.fit`, which supports generators.\n",
            "  r = model.fit_generator(\n"
          ]
        },
        {
          "output_type": "stream",
          "name": "stdout",
          "text": [
            "Epoch 1/50\n",
            "16/16 [==============================] - 501s 31s/step - loss: 0.0013 - accuracy: 1.0000 - val_loss: 0.1444 - val_accuracy: 0.9536\n",
            "Epoch 2/50\n",
            "16/16 [==============================] - 17s 1s/step - loss: 0.0011 - accuracy: 1.0000 - val_loss: 0.1801 - val_accuracy: 0.9485\n",
            "Epoch 3/50\n",
            "16/16 [==============================] - 17s 1s/step - loss: 0.0016 - accuracy: 1.0000 - val_loss: 0.1245 - val_accuracy: 0.9639\n",
            "Epoch 4/50\n",
            "16/16 [==============================] - 17s 1s/step - loss: 0.0014 - accuracy: 1.0000 - val_loss: 0.1868 - val_accuracy: 0.9485\n",
            "Epoch 5/50\n",
            "16/16 [==============================] - 17s 1s/step - loss: 0.0021 - accuracy: 1.0000 - val_loss: 0.1586 - val_accuracy: 0.9536\n",
            "Epoch 6/50\n",
            "16/16 [==============================] - 18s 1s/step - loss: 0.0023 - accuracy: 1.0000 - val_loss: 0.1611 - val_accuracy: 0.9536\n",
            "Epoch 7/50\n",
            "16/16 [==============================] - 17s 1s/step - loss: 9.0524e-04 - accuracy: 1.0000 - val_loss: 0.1498 - val_accuracy: 0.9536\n",
            "Epoch 8/50\n",
            "16/16 [==============================] - 17s 1s/step - loss: 0.0012 - accuracy: 1.0000 - val_loss: 0.1663 - val_accuracy: 0.9536\n",
            "Epoch 9/50\n",
            "16/16 [==============================] - 17s 1s/step - loss: 0.0014 - accuracy: 1.0000 - val_loss: 0.1431 - val_accuracy: 0.9536\n",
            "Epoch 10/50\n",
            "16/16 [==============================] - 17s 1s/step - loss: 0.0010 - accuracy: 1.0000 - val_loss: 0.1536 - val_accuracy: 0.9536\n",
            "Epoch 11/50\n",
            "16/16 [==============================] - 17s 1s/step - loss: 0.0017 - accuracy: 1.0000 - val_loss: 0.1573 - val_accuracy: 0.9536\n",
            "Epoch 12/50\n",
            "16/16 [==============================] - 17s 1s/step - loss: 9.7007e-04 - accuracy: 1.0000 - val_loss: 0.1487 - val_accuracy: 0.9536\n",
            "Epoch 13/50\n",
            "16/16 [==============================] - 18s 1s/step - loss: 8.9741e-04 - accuracy: 1.0000 - val_loss: 0.1651 - val_accuracy: 0.9536\n",
            "Epoch 14/50\n",
            "16/16 [==============================] - 17s 1s/step - loss: 8.8773e-04 - accuracy: 1.0000 - val_loss: 0.1387 - val_accuracy: 0.9536\n",
            "Epoch 15/50\n",
            "16/16 [==============================] - 17s 1s/step - loss: 0.0012 - accuracy: 1.0000 - val_loss: 0.1537 - val_accuracy: 0.9536\n",
            "Epoch 16/50\n",
            "16/16 [==============================] - 17s 1s/step - loss: 0.0015 - accuracy: 1.0000 - val_loss: 0.1372 - val_accuracy: 0.9536\n",
            "Epoch 17/50\n",
            "16/16 [==============================] - 17s 1s/step - loss: 0.0013 - accuracy: 1.0000 - val_loss: 0.1953 - val_accuracy: 0.9433\n",
            "Epoch 18/50\n",
            "16/16 [==============================] - 17s 1s/step - loss: 0.0018 - accuracy: 1.0000 - val_loss: 0.1736 - val_accuracy: 0.9485\n",
            "Epoch 19/50\n",
            "16/16 [==============================] - 17s 1s/step - loss: 0.0011 - accuracy: 1.0000 - val_loss: 0.1558 - val_accuracy: 0.9536\n",
            "Epoch 20/50\n",
            "16/16 [==============================] - 17s 1s/step - loss: 0.0020 - accuracy: 1.0000 - val_loss: 0.1195 - val_accuracy: 0.9742\n",
            "Epoch 21/50\n",
            "16/16 [==============================] - 18s 1s/step - loss: 0.0018 - accuracy: 1.0000 - val_loss: 0.1753 - val_accuracy: 0.9485\n",
            "Epoch 22/50\n",
            "16/16 [==============================] - 17s 1s/step - loss: 0.0012 - accuracy: 1.0000 - val_loss: 0.1592 - val_accuracy: 0.9536\n",
            "Epoch 23/50\n",
            "16/16 [==============================] - 17s 1s/step - loss: 7.5895e-04 - accuracy: 1.0000 - val_loss: 0.1569 - val_accuracy: 0.9536\n",
            "Epoch 24/50\n",
            "16/16 [==============================] - 17s 1s/step - loss: 8.9812e-04 - accuracy: 1.0000 - val_loss: 0.1536 - val_accuracy: 0.9536\n",
            "Epoch 25/50\n",
            "16/16 [==============================] - 17s 1s/step - loss: 9.2167e-04 - accuracy: 1.0000 - val_loss: 0.1536 - val_accuracy: 0.9536\n",
            "Epoch 26/50\n",
            "16/16 [==============================] - 17s 1s/step - loss: 7.6034e-04 - accuracy: 1.0000 - val_loss: 0.1608 - val_accuracy: 0.9536\n",
            "Epoch 27/50\n",
            "16/16 [==============================] - 17s 1s/step - loss: 7.5666e-04 - accuracy: 1.0000 - val_loss: 0.1548 - val_accuracy: 0.9536\n",
            "Epoch 28/50\n",
            "16/16 [==============================] - 18s 1s/step - loss: 8.9628e-04 - accuracy: 1.0000 - val_loss: 0.1480 - val_accuracy: 0.9536\n",
            "Epoch 29/50\n",
            "16/16 [==============================] - 18s 1s/step - loss: 8.5172e-04 - accuracy: 1.0000 - val_loss: 0.1738 - val_accuracy: 0.9485\n",
            "Epoch 30/50\n",
            "16/16 [==============================] - 17s 1s/step - loss: 0.0027 - accuracy: 1.0000 - val_loss: 0.1806 - val_accuracy: 0.9485\n",
            "Epoch 31/50\n",
            "16/16 [==============================] - 17s 1s/step - loss: 0.0014 - accuracy: 1.0000 - val_loss: 0.1452 - val_accuracy: 0.9588\n",
            "Epoch 32/50\n",
            "16/16 [==============================] - 18s 1s/step - loss: 0.0014 - accuracy: 1.0000 - val_loss: 0.1886 - val_accuracy: 0.9485\n",
            "Epoch 33/50\n",
            "16/16 [==============================] - 17s 1s/step - loss: 9.5988e-04 - accuracy: 1.0000 - val_loss: 0.1453 - val_accuracy: 0.9588\n",
            "Epoch 34/50\n",
            "16/16 [==============================] - 17s 1s/step - loss: 8.3918e-04 - accuracy: 1.0000 - val_loss: 0.1616 - val_accuracy: 0.9485\n",
            "Epoch 35/50\n",
            "16/16 [==============================] - 18s 1s/step - loss: 8.3426e-04 - accuracy: 1.0000 - val_loss: 0.1522 - val_accuracy: 0.9485\n",
            "Epoch 36/50\n",
            "16/16 [==============================] - 18s 1s/step - loss: 0.0011 - accuracy: 1.0000 - val_loss: 0.1616 - val_accuracy: 0.9485\n",
            "Epoch 37/50\n",
            "16/16 [==============================] - 17s 1s/step - loss: 0.0011 - accuracy: 1.0000 - val_loss: 0.1771 - val_accuracy: 0.9485\n",
            "Epoch 38/50\n",
            "16/16 [==============================] - 17s 1s/step - loss: 6.0465e-04 - accuracy: 1.0000 - val_loss: 0.1494 - val_accuracy: 0.9485\n",
            "Epoch 39/50\n",
            "16/16 [==============================] - 17s 1s/step - loss: 8.7169e-04 - accuracy: 1.0000 - val_loss: 0.1450 - val_accuracy: 0.9588\n",
            "Epoch 40/50\n",
            "16/16 [==============================] - 18s 1s/step - loss: 8.1907e-04 - accuracy: 1.0000 - val_loss: 0.1842 - val_accuracy: 0.9485\n",
            "Epoch 41/50\n",
            "16/16 [==============================] - 17s 1s/step - loss: 7.0791e-04 - accuracy: 1.0000 - val_loss: 0.1359 - val_accuracy: 0.9639\n",
            "Epoch 42/50\n",
            "16/16 [==============================] - 17s 1s/step - loss: 0.0012 - accuracy: 1.0000 - val_loss: 0.1892 - val_accuracy: 0.9485\n",
            "Epoch 43/50\n",
            "16/16 [==============================] - 19s 1s/step - loss: 0.0020 - accuracy: 1.0000 - val_loss: 0.1418 - val_accuracy: 0.9536\n",
            "Epoch 44/50\n",
            "16/16 [==============================] - 17s 1s/step - loss: 9.3828e-04 - accuracy: 1.0000 - val_loss: 0.1568 - val_accuracy: 0.9485\n",
            "Epoch 45/50\n",
            "16/16 [==============================] - 17s 1s/step - loss: 6.8985e-04 - accuracy: 1.0000 - val_loss: 0.1486 - val_accuracy: 0.9536\n",
            "Epoch 46/50\n",
            "16/16 [==============================] - 17s 1s/step - loss: 7.2408e-04 - accuracy: 1.0000 - val_loss: 0.1351 - val_accuracy: 0.9639\n",
            "Epoch 47/50\n",
            "16/16 [==============================] - 17s 1s/step - loss: 7.6156e-04 - accuracy: 1.0000 - val_loss: 0.1770 - val_accuracy: 0.9485\n",
            "Epoch 48/50\n",
            "16/16 [==============================] - 17s 1s/step - loss: 8.3192e-04 - accuracy: 1.0000 - val_loss: 0.1630 - val_accuracy: 0.9485\n",
            "Epoch 49/50\n",
            "16/16 [==============================] - 19s 1s/step - loss: 4.8938e-04 - accuracy: 1.0000 - val_loss: 0.1545 - val_accuracy: 0.9485\n",
            "Epoch 50/50\n",
            "16/16 [==============================] - 19s 1s/step - loss: 5.9607e-04 - accuracy: 1.0000 - val_loss: 0.1690 - val_accuracy: 0.9485\n"
          ]
        }
      ],
      "source": [
        "r = model.fit_generator(\n",
        "  training_set,\n",
        "  validation_data=test_set,\n",
        "  epochs=50, \n",
        "  steps_per_epoch=len(training_set),\n",
        "  validation_steps=len(test_set)\n",
        ")"
      ]
    },
    {
      "cell_type": "code",
      "source": [
        "from keras.models import load_model\n",
        "model.save('/content/drive/MyDrive/Model/vgg16(1).hdf5')"
      ],
      "metadata": {
        "id": "2kLaZFL88nnv"
      },
      "execution_count": null,
      "outputs": []
    },
    {
      "cell_type": "code",
      "source": [
        "from tensorflow.keras.models import load_model\n",
        "from  tensorflow.keras.preprocessing import image\n",
        "model=load_model('/content/drive/MyDrive/Model/vgg16(1).hdf5')"
      ],
      "metadata": {
        "id": "XR7w5VAuawHl"
      },
      "execution_count": 19,
      "outputs": []
    },
    {
      "cell_type": "code",
      "source": [
        "test1_set = test_datagen.flow_from_directory('/content/drive/MyDrive/New dataset/test (1)',\n",
        "                                            target_size = (224, 224),\n",
        "                                            batch_size = 32,\n",
        "                                            class_mode = 'categorical')"
      ],
      "metadata": {
        "id": "_jGZorE2Ctst",
        "colab": {
          "base_uri": "https://localhost:8080/"
        },
        "outputId": "182613ec-94d0-4bb4-8362-ec6777fbb877"
      },
      "execution_count": 20,
      "outputs": [
        {
          "output_type": "stream",
          "name": "stdout",
          "text": [
            "Found 25 images belonging to 2 classes.\n"
          ]
        }
      ]
    },
    {
      "cell_type": "code",
      "source": [
        "model.evaluate(test1_set)"
      ],
      "metadata": {
        "colab": {
          "base_uri": "https://localhost:8080/"
        },
        "id": "gELRUOE4QNKV",
        "outputId": "d3733398-4448-4f3f-d522-045133fe8f0f"
      },
      "execution_count": 21,
      "outputs": [
        {
          "output_type": "stream",
          "name": "stdout",
          "text": [
            "1/1 [==============================] - 10s 10s/step - loss: 0.6243 - accuracy: 0.8400\n"
          ]
        },
        {
          "output_type": "execute_result",
          "data": {
            "text/plain": [
              "[0.6242541074752808, 0.8399999737739563]"
            ]
          },
          "metadata": {},
          "execution_count": 21
        }
      ]
    },
    {
      "cell_type": "code",
      "source": [
        "import matplotlib.pyplot as plt\n",
        "plt.plot(r.history['loss'], label='train loss')\n",
        "plt.plot(r.history['val_loss'], label='val loss')\n",
        "plt.legend()\n",
        "plt.show()\n",
        "plt.savefig('LossVal_loss')"
      ],
      "metadata": {
        "colab": {
          "base_uri": "https://localhost:8080/",
          "height": 282
        },
        "id": "JXksGKOUhm92",
        "outputId": "26744490-a6ea-4d23-de50-213ff76ad1f9"
      },
      "execution_count": 35,
      "outputs": [
        {
          "output_type": "display_data",
          "data": {
            "text/plain": [
              "<Figure size 432x288 with 1 Axes>"
            ],
            "image/png": "[encoded data removed]"
          },
          "metadata": {
            "needs_background": "light"
          }
        },
        {
          "output_type": "display_data",
          "data": {
            "text/plain": [
              "<Figure size 432x288 with 0 Axes>"
            ]
          },
          "metadata": {}
        }
      ]
    },
    {
      "cell_type": "code",
      "source": [
        "plt.plot(r.history['accuracy'], label='train acc')\n",
        "plt.plot(r.history['val_accuracy'], label='val acc')\n",
        "plt.legend()\n",
        "plt.show()\n",
        "plt.savefig('AccVal_acc')\n"
      ],
      "metadata": {
        "colab": {
          "base_uri": "https://localhost:8080/",
          "height": 282
        },
        "id": "xTwUoNgDhnfe",
        "outputId": "c27ddc7b-0b7e-44d0-f912-f089026212ad"
      },
      "execution_count": 36,
      "outputs": [
        {
          "output_type": "display_data",
          "data": {
            "text/plain": [
              "<Figure size 432x288 with 1 Axes>"
            ],
            "image/png": "[encoded data removed]"
          },
          "metadata": {
            "needs_background": "light"
          }
        },
        {
          "output_type": "display_data",
          "data": {
            "text/plain": [
              "<Figure size 432x288 with 0 Axes>"
            ]
          },
          "metadata": {}
        }
      ]
    },
    {
      "cell_type": "code",
      "source": [
        "y_pred = model.predict(test1_set)"
      ],
      "metadata": {
        "colab": {
          "base_uri": "https://localhost:8080/"
        },
        "id": "Po_UrbCthn7j",
        "outputId": "000b931d-07c8-4204-f1be-bf0bb677f2cf"
      },
      "execution_count": 23,
      "outputs": [
        {
          "output_type": "stream",
          "name": "stdout",
          "text": [
            "1/1 [==============================] - 1s 764ms/step\n"
          ]
        }
      ]
    },
    {
      "cell_type": "code",
      "source": [
        "y_pred"
      ],
      "metadata": {
        "colab": {
          "base_uri": "https://localhost:8080/"
        },
        "id": "uzHqtzBWhoR-",
        "outputId": "7576c1cb-4b39-43e5-8c6d-f29c96168e8c"
      },
      "execution_count": 24,
      "outputs": [
        {
          "output_type": "execute_result",
          "data": {
            "text/plain": [
              "array([[9.99933958e-01, 6.60707883e-05],\n",
              "       [3.01581668e-03, 9.96984184e-01],\n",
              "       [4.78805780e-01, 5.21194279e-01],\n",
              "       [9.99786079e-01, 2.13948340e-04],\n",
              "       [7.53345609e-01, 2.46654391e-01],\n",
              "       [9.99999762e-01, 2.75882769e-07],\n",
              "       [9.74366188e-01, 2.56337915e-02],\n",
              "       [5.67146778e-01, 4.32853192e-01],\n",
              "       [1.00000000e+00, 3.32220900e-08],\n",
              "       [1.61306129e-03, 9.98386979e-01],\n",
              "       [1.09811954e-01, 8.90188038e-01],\n",
              "       [7.81476721e-02, 9.21852291e-01],\n",
              "       [6.26005558e-03, 9.93739963e-01],\n",
              "       [9.99976516e-01, 2.35365442e-05],\n",
              "       [9.99671459e-01, 3.28526017e-04],\n",
              "       [1.86179668e-01, 8.13820362e-01],\n",
              "       [9.99951363e-01, 4.86650861e-05],\n",
              "       [9.99490619e-01, 5.09331992e-04],\n",
              "       [1.86179668e-01, 8.13820362e-01],\n",
              "       [4.26761620e-02, 9.57323909e-01],\n",
              "       [1.77213773e-02, 9.82278585e-01],\n",
              "       [9.98478591e-01, 1.52143463e-03],\n",
              "       [9.75871027e-01, 2.41289772e-02],\n",
              "       [4.08694267e-01, 5.91305733e-01],\n",
              "       [1.60641447e-01, 8.39358568e-01]], dtype=float32)"
            ]
          },
          "metadata": {},
          "execution_count": 24
        }
      ]
    },
    {
      "cell_type": "code",
      "source": [
        "import numpy as np\n",
        "y_pred = np.argmax(y_pred, axis=1)\n",
        "y_pred"
      ],
      "metadata": {
        "colab": {
          "base_uri": "https://localhost:8080/"
        },
        "id": "PL0x0SBnhosX",
        "outputId": "a97225cc-daf7-4479-86b7-7526e8ce3b23"
      },
      "execution_count": 25,
      "outputs": [
        {
          "output_type": "execute_result",
          "data": {
            "text/plain": [
              "array([0, 1, 1, 0, 0, 0, 0, 0, 0, 1, 1, 1, 1, 0, 0, 1, 0, 0, 1, 1, 1, 0,\n",
              "       0, 1, 1])"
            ]
          },
          "metadata": {},
          "execution_count": 25
        }
      ]
    },
    {
      "cell_type": "code",
      "source": [
        "from tensorflow.keras.models import load_model\n",
        "from  tensorflow.keras.preprocessing import image"
      ],
      "metadata": {
        "id": "OZSEYwmBhpIh"
      },
      "execution_count": 26,
      "outputs": []
    },
    {
      "cell_type": "code",
      "source": [
        "img=image.load_img('/content/drive/MyDrive/New dataset/test/Fracture/image15.jpeg',target_size=(224,224))"
      ],
      "metadata": {
        "id": "EL1Fcg0JinZT"
      },
      "execution_count": 27,
      "outputs": []
    },
    {
      "cell_type": "code",
      "source": [
        "x=image.img_to_array(img)\n",
        "x"
      ],
      "metadata": {
        "colab": {
          "base_uri": "https://localhost:8080/"
        },
        "id": "foQfefsOhpr9",
        "outputId": "894f7d09-4872-48fd-bcf7-80a0a4a3eb06"
      },
      "execution_count": 28,
      "outputs": [
        {
          "output_type": "execute_result",
          "data": {
            "text/plain": [
              "array([[[100., 121., 166.],\n",
              "        [102., 120., 166.],\n",
              "        [102., 119., 165.],\n",
              "        ...,\n",
              "        [ 25.,  34.,  67.],\n",
              "        [ 25.,  34.,  67.],\n",
              "        [ 26.,  35.,  68.]],\n",
              "\n",
              "       [[100., 121., 166.],\n",
              "        [101., 119., 165.],\n",
              "        [100., 117., 163.],\n",
              "        ...,\n",
              "        [ 23.,  32.,  65.],\n",
              "        [ 25.,  34.,  67.],\n",
              "        [ 30.,  39.,  72.]],\n",
              "\n",
              "       [[ 99., 120., 165.],\n",
              "        [102., 120., 166.],\n",
              "        [ 99., 116., 162.],\n",
              "        ...,\n",
              "        [ 32.,  41.,  74.],\n",
              "        [ 22.,  31.,  64.],\n",
              "        [ 26.,  35.,  68.]],\n",
              "\n",
              "       ...,\n",
              "\n",
              "       [[152., 178., 205.],\n",
              "        [151., 161., 196.],\n",
              "        [116., 131., 170.],\n",
              "        ...,\n",
              "        [128., 135., 179.],\n",
              "        [130., 137., 181.],\n",
              "        [129., 136., 180.]],\n",
              "\n",
              "       [[145., 171., 198.],\n",
              "        [151., 161., 196.],\n",
              "        [116., 131., 170.],\n",
              "        ...,\n",
              "        [129., 136., 180.],\n",
              "        [129., 136., 180.],\n",
              "        [128., 135., 179.]],\n",
              "\n",
              "       [[137., 164., 193.],\n",
              "        [144., 157., 192.],\n",
              "        [105., 123., 161.],\n",
              "        ...,\n",
              "        [129., 136., 182.],\n",
              "        [129., 136., 182.],\n",
              "        [131., 138., 184.]]], dtype=float32)"
            ]
          },
          "metadata": {},
          "execution_count": 28
        }
      ]
    },
    {
      "cell_type": "code",
      "source": [
        "x=x/255"
      ],
      "metadata": {
        "id": "TzXQGZLPic_F"
      },
      "execution_count": 29,
      "outputs": []
    },
    {
      "cell_type": "code",
      "source": [
        "import numpy as np\n",
        "x=np.expand_dims(x,axis=0)\n",
        "##img_data=preprocess_input(x)\n",
        "print(x)\n",
        "x.shape\n"
      ],
      "metadata": {
        "colab": {
          "base_uri": "https://localhost:8080/"
        },
        "id": "MAKkNiKQifYm",
        "outputId": "01b3d53b-76c7-40fe-a384-2f6254b94d45"
      },
      "execution_count": 30,
      "outputs": [
        {
          "output_type": "stream",
          "name": "stdout",
          "text": [
            "[[[[0.39215687 0.4745098  0.6509804 ]\n",
            "   [0.4        0.47058824 0.6509804 ]\n",
            "   [0.4        0.46666667 0.64705884]\n",
            "   ...\n",
            "   [0.09803922 0.13333334 0.2627451 ]\n",
            "   [0.09803922 0.13333334 0.2627451 ]\n",
            "   [0.10196079 0.13725491 0.26666668]]\n",
            "\n",
            "  [[0.39215687 0.4745098  0.6509804 ]\n",
            "   [0.39607844 0.46666667 0.64705884]\n",
            "   [0.39215687 0.45882353 0.6392157 ]\n",
            "   ...\n",
            "   [0.09019608 0.1254902  0.25490198]\n",
            "   [0.09803922 0.13333334 0.2627451 ]\n",
            "   [0.11764706 0.15294118 0.28235295]]\n",
            "\n",
            "  [[0.3882353  0.47058824 0.64705884]\n",
            "   [0.4        0.47058824 0.6509804 ]\n",
            "   [0.3882353  0.45490196 0.63529414]\n",
            "   ...\n",
            "   [0.1254902  0.16078432 0.2901961 ]\n",
            "   [0.08627451 0.12156863 0.2509804 ]\n",
            "   [0.10196079 0.13725491 0.26666668]]\n",
            "\n",
            "  ...\n",
            "\n",
            "  [[0.59607846 0.69803923 0.8039216 ]\n",
            "   [0.5921569  0.6313726  0.76862746]\n",
            "   [0.45490196 0.5137255  0.6666667 ]\n",
            "   ...\n",
            "   [0.5019608  0.5294118  0.7019608 ]\n",
            "   [0.50980395 0.5372549  0.70980394]\n",
            "   [0.5058824  0.53333336 0.7058824 ]]\n",
            "\n",
            "  [[0.5686275  0.67058825 0.7764706 ]\n",
            "   [0.5921569  0.6313726  0.76862746]\n",
            "   [0.45490196 0.5137255  0.6666667 ]\n",
            "   ...\n",
            "   [0.5058824  0.53333336 0.7058824 ]\n",
            "   [0.5058824  0.53333336 0.7058824 ]\n",
            "   [0.5019608  0.5294118  0.7019608 ]]\n",
            "\n",
            "  [[0.5372549  0.6431373  0.75686276]\n",
            "   [0.5647059  0.6156863  0.7529412 ]\n",
            "   [0.4117647  0.48235294 0.6313726 ]\n",
            "   ...\n",
            "   [0.5058824  0.53333336 0.7137255 ]\n",
            "   [0.5058824  0.53333336 0.7137255 ]\n",
            "   [0.5137255  0.5411765  0.72156864]]]]\n"
          ]
        },
        {
          "output_type": "execute_result",
          "data": {
            "text/plain": [
              "(1, 224, 224, 3)"
            ]
          },
          "metadata": {},
          "execution_count": 30
        }
      ]
    },
    {
      "cell_type": "code",
      "source": [
        "y=model.predict(x)\n",
        "y"
      ],
      "metadata": {
        "colab": {
          "base_uri": "https://localhost:8080/"
        },
        "id": "ptJHA_pojLo2",
        "outputId": "de07405d-14a5-4cb4-c8e5-f7e978345545"
      },
      "execution_count": 31,
      "outputs": [
        {
          "output_type": "stream",
          "name": "stdout",
          "text": [
            "1/1 [==============================] - 1s 801ms/step\n"
          ]
        },
        {
          "output_type": "execute_result",
          "data": {
            "text/plain": [
              "array([[0.9944337 , 0.00556633]], dtype=float32)"
            ]
          },
          "metadata": {},
          "execution_count": 31
        }
      ]
    },
    {
      "cell_type": "code",
      "source": [
        "a=np.argmax(model.predict(x), axis=1)\n",
        "a"
      ],
      "metadata": {
        "colab": {
          "base_uri": "https://localhost:8080/"
        },
        "id": "xIDYi4TDjCOX",
        "outputId": "3e556113-0380-47ec-8383-ceecb5613f2d"
      },
      "execution_count": 32,
      "outputs": [
        {
          "output_type": "stream",
          "name": "stdout",
          "text": [
            "1/1 [==============================] - 0s 16ms/step\n"
          ]
        },
        {
          "output_type": "execute_result",
          "data": {
            "text/plain": [
              "array([0])"
            ]
          },
          "metadata": {},
          "execution_count": 32
        }
      ]
    },
    {
      "cell_type": "code",
      "source": [
        "if(a==0):\n",
        "    print(\"Fractured\")\n",
        "else:\n",
        "    print(\"non fractured\")"
      ],
      "metadata": {
        "colab": {
          "base_uri": "https://localhost:8080/"
        },
        "id": "-J8rwbubjSCX",
        "outputId": "e4f02d46-0c35-4c13-86d8-9a0e7102ada6"
      },
      "execution_count": 33,
      "outputs": [
        {
          "output_type": "stream",
          "name": "stdout",
          "text": [
            "Fractured\n"
          ]
        }
      ]
    }
  ],
  "metadata": {
    "colab": {
      "provenance": []
    },
    "kernelspec": {
      "display_name": "Python 3",
      "name": "python3"
    },
    "language_info": {
      "name": "python"
    },
    "accelerator": "GPU",
    "gpuClass": "standard"
  },
  "nbformat": 4,
  "nbformat_minor": 0
}